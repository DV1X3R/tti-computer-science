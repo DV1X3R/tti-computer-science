{
 "cells": [
  {
   "cell_type": "markdown",
   "metadata": {},
   "source": [
    "# Linear Classifier"
   ]
  },
  {
   "cell_type": "markdown",
   "metadata": {},
   "source": [
    "### Download Iris dataset\n",
    "Follow the link and download the Iris dataset:  \n",
    "http://archive.ics.uci.edu/ml/machine-learning-databases/iris/"
   ]
  },
  {
   "cell_type": "code",
   "execution_count": 1,
   "metadata": {},
   "outputs": [],
   "source": [
    "import numpy as np\n",
    "import pandas as pd\n",
    "import seaborn as sns\n",
    "import matplotlib.pyplot as plt\n",
    "\n",
    "from sklearn.preprocessing import StandardScaler\n",
    "from sklearn.model_selection import train_test_split\n",
    "from sklearn.metrics import accuracy_score\n",
    "\n",
    "#from sklearn.linear_model import Perceptron"
   ]
  },
  {
   "cell_type": "code",
   "execution_count": 2,
   "metadata": {},
   "outputs": [],
   "source": [
    "class _LinearClassifier:\n",
    "\n",
    "    def __init__(self, method='perceptron', alpha=0.0001, epsilon=0.1, max_iter=300):\n",
    "        self.method = method\n",
    "        self.alpha = alpha\n",
    "        self.epsilon = epsilon\n",
    "        self.max_iter = max_iter\n",
    "        self.b = None\n",
    "        self.w = None\n",
    "\n",
    "    def fit(self, X, y):\n",
    "        self.b = np.random.sample() * self.alpha\n",
    "        self.w = np.random.sample(len(X.T)) * self.alpha\n",
    "        current_iter = 0\n",
    "\n",
    "        while True:\n",
    "            current_iter += 1\n",
    "            if current_iter > self.max_iter:\n",
    "                break\n",
    "\n",
    "            if self.method == 'perceptron':\n",
    "                old_b, old_w = [self.b, self.w]\n",
    "                for i in range(len(X)):\n",
    "                    y_pred = self._phi_perceptron(np.sum((X[i] * self.w)) + self.b)\n",
    "                    delta_b = self.alpha * (y[i] - y_pred)\n",
    "                    delta_w = self.alpha * (y[i] - y_pred) * X[i]\n",
    "                    self.b += delta_b\n",
    "                    self.w += delta_w\n",
    "                if old_b == self.b and np.array_equal(old_w, self.w):\n",
    "                    break\n",
    "\n",
    "            elif self.method == 'adaline': # batch\n",
    "                y_pred = self._phi_adaline(np.sum(X * self.w, axis=1) + self.b)\n",
    "                delta_b = self.alpha * np.sum(y - y_pred)\n",
    "                delta_w = self.alpha * np.sum((y - y_pred) * X.T, axis=1)\n",
    "                self.b += delta_b\n",
    "                self.w += delta_w\n",
    "                if (delta_b ** 2) + np.sum(delta_w ** 2) < self.epsilon:\n",
    "                    break\n",
    "\n",
    "        print('Iterations:', current_iter)\n",
    "        return self\n",
    "\n",
    "    # activation functions\n",
    "    def _phi_perceptron(self, z):\n",
    "        return -1 if z < 0 else 1\n",
    "\n",
    "    def _phi_adaline(self, z):\n",
    "        return z\n",
    "\n",
    "    # quantizer\n",
    "    def predict(self, X):\n",
    "        a = np.sum((X * self.w), axis=1) + self.b\n",
    "        return np.where(a < 0, -1, 1)"
   ]
  },
  {
   "cell_type": "markdown",
   "metadata": {},
   "source": [
    "### Importing data"
   ]
  },
  {
   "cell_type": "code",
   "execution_count": 3,
   "metadata": {},
   "outputs": [],
   "source": [
    "X = pd.read_csv('datasets/iris.data.csv')\n",
    "X = X[X['class'].isin(['Iris-setosa', 'Iris-versicolor'])]\n",
    "X['class'] = np.where(X['class'] == 'Iris-setosa', -1, 1)"
   ]
  },
  {
   "cell_type": "markdown",
   "metadata": {},
   "source": [
    "### Standardization and slicing"
   ]
  },
  {
   "cell_type": "code",
   "execution_count": 4,
   "metadata": {},
   "outputs": [],
   "source": [
    "x_fields = ['sepal length', 'petal width']\n",
    "X[x_fields] = StandardScaler().fit_transform(X[x_fields])\n",
    "X_train, X_test, y_train, y_test = train_test_split(np.array(X[x_fields]), np.array(X['class']), test_size=0.2)"
   ]
  },
  {
   "cell_type": "markdown",
   "metadata": {},
   "source": [
    "## Perceptron"
   ]
  },
  {
   "cell_type": "markdown",
   "metadata": {},
   "source": [
    "### Fitting"
   ]
  },
  {
   "cell_type": "code",
   "execution_count": 5,
   "metadata": {},
   "outputs": [
    {
     "name": "stdout",
     "output_type": "stream",
     "text": [
      "Iterations: 1\n"
     ]
    }
   ],
   "source": [
    "y_pred = _LinearClassifier(method='perceptron').fit(X_train, y_train).predict(X_test)"
   ]
  },
  {
   "cell_type": "markdown",
   "metadata": {},
   "source": [
    "### Accuracy check"
   ]
  },
  {
   "cell_type": "code",
   "execution_count": 6,
   "metadata": {
    "scrolled": false
   },
   "outputs": [
    {
     "data": {
      "text/plain": [
       "1.0"
      ]
     },
     "execution_count": 6,
     "metadata": {},
     "output_type": "execute_result"
    }
   ],
   "source": [
    "accuracy_score(y_test, y_pred)"
   ]
  },
  {
   "cell_type": "markdown",
   "metadata": {},
   "source": [
    "### Scatterplot"
   ]
  },
  {
   "cell_type": "code",
   "execution_count": 7,
   "metadata": {
    "scrolled": true
   },
   "outputs": [
    {
     "data": {
      "text/plain": [
       "<matplotlib.axes._subplots.AxesSubplot at 0x12132a358>"
      ]
     },
     "execution_count": 7,
     "metadata": {},
     "output_type": "execute_result"
    },
    {
     "data": {
      "image/png": "[encoded data removed]",
      "text/plain": [
       "<Figure size 432x288 with 1 Axes>"
      ]
     },
     "metadata": {
      "needs_background": "light"
     },
     "output_type": "display_data"
    }
   ],
   "source": [
    "sns.scatterplot(x=X_test.T[0], y=X_test.T[1],\n",
    "                hue=np.where(y_pred == -1, 'Iris-setosa', 'Iris-versicolor'))"
   ]
  },
  {
   "cell_type": "markdown",
   "metadata": {},
   "source": [
    "## Adaptive linear neuron (Adaline)"
   ]
  },
  {
   "cell_type": "markdown",
   "metadata": {},
   "source": [
    "### Fitting"
   ]
  },
  {
   "cell_type": "code",
   "execution_count": 8,
   "metadata": {},
   "outputs": [
    {
     "name": "stdout",
     "output_type": "stream",
     "text": [
      "Iterations: 3\n"
     ]
    }
   ],
   "source": [
    "y_pred = _LinearClassifier(method='adaline', alpha=0.01).fit(X_train, y_train).predict(X_test)"
   ]
  },
  {
   "cell_type": "markdown",
   "metadata": {},
   "source": [
    "### Accuracy check"
   ]
  },
  {
   "cell_type": "code",
   "execution_count": 9,
   "metadata": {},
   "outputs": [
    {
     "data": {
      "text/plain": [
       "1.0"
      ]
     },
     "execution_count": 9,
     "metadata": {},
     "output_type": "execute_result"
    }
   ],
   "source": [
    "accuracy_score(y_test, y_pred)"
   ]
  },
  {
   "cell_type": "markdown",
   "metadata": {},
   "source": [
    "### Scatterplot"
   ]
  },
  {
   "cell_type": "code",
   "execution_count": 10,
   "metadata": {
    "scrolled": true
   },
   "outputs": [
    {
     "data": {
      "text/plain": [
       "<matplotlib.axes._subplots.AxesSubplot at 0x123445080>"
      ]
     },
     "execution_count": 10,
     "metadata": {},
     "output_type": "execute_result"
    },
    {
     "data": {
      "image/png": "[encoded data removed]",
      "text/plain": [
       "<Figure size 432x288 with 1 Axes>"
      ]
     },
     "metadata": {
      "needs_background": "light"
     },
     "output_type": "display_data"
    }
   ],
   "source": [
    "sns.scatterplot(x=X_test.T[0], y=X_test.T[1],\n",
    "                hue=np.where(y_pred == -1, 'Iris-setosa', 'Iris-versicolor'))"
   ]
  },
  {
   "cell_type": "code",
   "execution_count": null,
   "metadata": {},
   "outputs": [],
   "source": []
  }
 ],
 "metadata": {
  "kernelspec": {
   "display_name": "Python 3",
   "language": "python",
   "name": "python3"
  },
  "language_info": {
   "codemirror_mode": {
    "name": "ipython",
    "version": 3
   },
   "file_extension": ".py",
   "mimetype": "text/x-python",
   "name": "python",
   "nbconvert_exporter": "python",
   "pygments_lexer": "ipython3",
   "version": "3.7.2"
  }
 },
 "nbformat": 4,
 "nbformat_minor": 2
}
