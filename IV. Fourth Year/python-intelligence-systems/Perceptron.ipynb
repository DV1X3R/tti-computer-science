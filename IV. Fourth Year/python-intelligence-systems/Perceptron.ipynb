{
 "cells": [
  {
   "cell_type": "markdown",
   "metadata": {},
   "source": [
    "# Perceptron"
   ]
  },
  {
   "cell_type": "markdown",
   "metadata": {},
   "source": [
    "### Download Iris dataset\n",
    "Follow the link and download the Iris dataset:  \n",
    "http://archive.ics.uci.edu/ml/machine-learning-databases/iris/"
   ]
  },
  {
   "cell_type": "code",
   "execution_count": 1,
   "metadata": {},
   "outputs": [],
   "source": [
    "import numpy as np\n",
    "import pandas as pd\n",
    "import seaborn as sns\n",
    "import matplotlib.pyplot as plt\n",
    "\n",
    "from sklearn.preprocessing import StandardScaler\n",
    "from sklearn.model_selection import train_test_split\n",
    "from sklearn.metrics import accuracy_score\n",
    "\n",
    "#from sklearn.linear_model import Perceptron"
   ]
  },
  {
   "cell_type": "code",
   "execution_count": 2,
   "metadata": {},
   "outputs": [],
   "source": [
    "class Perceptron:\n",
    "\n",
    "    def __init__(self, alpha=0.0001, max_iter=300):\n",
    "        self.alpha = alpha\n",
    "        self.max_iter = max_iter\n",
    "        self.intercept_ = None\n",
    "        self.coef_ = None\n",
    "        self.iter = None\n",
    "\n",
    "    def fit(self, X, y):\n",
    "        self.intercept_ = np.random.sample() * self.alpha\n",
    "        self.coef_ = np.random.sample((len(X.T), 1)) * self.alpha\n",
    "        y = y.reshape(-1,1)\n",
    "        self.iter = 0\n",
    "\n",
    "        while True:\n",
    "            self.iter += 1\n",
    "            if self.iter > self.max_iter:\n",
    "                break\n",
    "\n",
    "            old_b, old_w = [self.intercept_, self.coef_]\n",
    "            for i in range(len(X)):\n",
    "                z = np.dot(X[i], self.coef_) + self.intercept_\n",
    "                y_cap = self._phi(z)\n",
    "                delta_b = self.alpha * (y[i] - y_cap)\n",
    "                delta_w = self.alpha * (y[i] - y_cap) * X[i]\n",
    "                self.intercept_ += delta_b\n",
    "                self.coef_ += delta_w.reshape(-1, 1)\n",
    "            if old_b == self.intercept_ and np.array_equal(old_w, self.coef_):\n",
    "                break\n",
    "\n",
    "        return self\n",
    "\n",
    "    # activation functions\n",
    "    def _phi(self, z):\n",
    "        return -1 if z < 0 else 1\n",
    "\n",
    "    # quantizer\n",
    "    def predict(self, X):\n",
    "        a = np.dot(X, self.coef_) + self.intercept_\n",
    "        return np.where(a < 0, -1, 1).reshape(1,-1)[0]"
   ]
  },
  {
   "cell_type": "markdown",
   "metadata": {},
   "source": [
    "### Importing data"
   ]
  },
  {
   "cell_type": "code",
   "execution_count": 3,
   "metadata": {},
   "outputs": [],
   "source": [
    "X = pd.read_csv('datasets/iris.data.csv')\n",
    "X = X[X['class'].isin(['Iris-setosa', 'Iris-versicolor'])]\n",
    "X['class'] = np.where(X['class'] == 'Iris-setosa', -1, 1)"
   ]
  },
  {
   "cell_type": "markdown",
   "metadata": {},
   "source": [
    "### Preprocessing"
   ]
  },
  {
   "cell_type": "code",
   "execution_count": 4,
   "metadata": {},
   "outputs": [],
   "source": [
    "x_fields = ['sepal length', 'petal width']"
   ]
  },
  {
   "cell_type": "code",
   "execution_count": 5,
   "metadata": {},
   "outputs": [],
   "source": [
    "X[x_fields] = StandardScaler().fit_transform(X[x_fields])"
   ]
  },
  {
   "cell_type": "code",
   "execution_count": 6,
   "metadata": {},
   "outputs": [],
   "source": [
    "X_train, X_test, y_train, y_test = train_test_split(np.array(X[x_fields]), np.array(X['class']), test_size=0.2)"
   ]
  },
  {
   "cell_type": "markdown",
   "metadata": {},
   "source": [
    "### Fitting"
   ]
  },
  {
   "cell_type": "code",
   "execution_count": 7,
   "metadata": {},
   "outputs": [],
   "source": [
    "model = Perceptron().fit(X_train, y_train)"
   ]
  },
  {
   "cell_type": "markdown",
   "metadata": {},
   "source": [
    "### Accuracy check"
   ]
  },
  {
   "cell_type": "code",
   "execution_count": 8,
   "metadata": {
    "scrolled": false
   },
   "outputs": [
    {
     "name": "stdout",
     "output_type": "stream",
     "text": [
      "train set accuracy 1.0\n"
     ]
    }
   ],
   "source": [
    "print('train set accuracy', accuracy_score(y_train, model.predict(X_train)))"
   ]
  },
  {
   "cell_type": "code",
   "execution_count": 9,
   "metadata": {
    "scrolled": true
   },
   "outputs": [
    {
     "name": "stdout",
     "output_type": "stream",
     "text": [
      "test set accuracy 1.0\n"
     ]
    }
   ],
   "source": [
    "print('test set accuracy', accuracy_score(y_test, model.predict(X_test)))"
   ]
  },
  {
   "cell_type": "markdown",
   "metadata": {},
   "source": [
    "### Scatterplot"
   ]
  },
  {
   "cell_type": "code",
   "execution_count": 10,
   "metadata": {
    "scrolled": true
   },
   "outputs": [
    {
     "data": {
      "text/plain": [
       "<matplotlib.axes._subplots.AxesSubplot at 0x126f82c50>"
      ]
     },
     "execution_count": 10,
     "metadata": {},
     "output_type": "execute_result"
    },
    {
     "data": {
      "image/png": "[encoded data removed]",
      "text/plain": [
       "<Figure size 432x288 with 1 Axes>"
      ]
     },
     "metadata": {
      "needs_background": "light"
     },
     "output_type": "display_data"
    }
   ],
   "source": [
    "sns.scatterplot(x=X_test.T[0], y=X_test.T[1],\n",
    "                hue=np.where(model.predict(X_test) == -1, 'Iris-setosa', 'Iris-versicolor'))"
   ]
  },
  {
   "cell_type": "code",
   "execution_count": null,
   "metadata": {},
   "outputs": [],
   "source": []
  }
 ],
 "metadata": {
  "kernelspec": {
   "display_name": "Python 3",
   "language": "python",
   "name": "python3"
  },
  "language_info": {
   "codemirror_mode": {
    "name": "ipython",
    "version": 3
   },
   "file_extension": ".py",
   "mimetype": "text/x-python",
   "name": "python",
   "nbconvert_exporter": "python",
   "pygments_lexer": "ipython3",
   "version": "3.7.2"
  }
 },
 "nbformat": 4,
 "nbformat_minor": 2
}
