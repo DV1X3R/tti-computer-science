{
 "cells": [
  {
   "cell_type": "markdown",
   "metadata": {},
   "source": [
    "# Perceptron"
   ]
  },
  {
   "cell_type": "markdown",
   "metadata": {},
   "source": [
    "### Download Iris dataset\n",
    "Follow the link and download the Iris dataset:  \n",
    "http://archive.ics.uci.edu/ml/machine-learning-databases/iris/"
   ]
  },
  {
   "cell_type": "code",
   "execution_count": 1,
   "metadata": {},
   "outputs": [],
   "source": [
    "import numpy as np\n",
    "import pandas as pd\n",
    "import seaborn as sns\n",
    "\n",
    "from sklearn.model_selection import train_test_split\n",
    "from sklearn.metrics import accuracy_score\n",
    "#from sklearn.linear_model import Perceptron"
   ]
  },
  {
   "cell_type": "code",
   "execution_count": 2,
   "metadata": {},
   "outputs": [],
   "source": [
    "class _Perceptron:\n",
    "\n",
    "    def __init__(self, alpha=0.0001, max_iter=300):\n",
    "        self.alpha = alpha\n",
    "        self.max_iter = max_iter\n",
    "        self.intercept_ = None\n",
    "        self.coef_ = None\n",
    "        self.iter = None\n",
    "\n",
    "    def fit(self, X, y):\n",
    "        X = np.array(X)\n",
    "        y = y.reshape(-1, 1)\n",
    "        self.intercept_ = 0\n",
    "        self.coef_ = np.zeros((len(X.T), 1))\n",
    "        self.iter = 0\n",
    "\n",
    "        while True:\n",
    "            self.iter += 1\n",
    "            if self.iter > self.max_iter:\n",
    "                break\n",
    "\n",
    "            old_b, old_w = [self.intercept_, self.coef_]\n",
    "            \n",
    "            for i in range(len(X)):\n",
    "                \n",
    "                z = self._z(X[i])\n",
    "                y_cap = self._phi(z)\n",
    "                \n",
    "                delta_b = self.alpha * (y[i] - y_cap)\n",
    "                delta_w = self.alpha * (y[i] - y_cap) * X[i].reshape(-1, 1)\n",
    "                self.intercept_ += delta_b\n",
    "                self.coef_ += delta_w\n",
    "            \n",
    "            if old_b == self.intercept_ and np.array_equal(old_w, self.coef_):\n",
    "                break\n",
    "\n",
    "        return self\n",
    "    \n",
    "    # weighted input function\n",
    "    def _z(self, X):\n",
    "        return X.dot(self.coef_) + self.intercept_\n",
    "    \n",
    "    # activation function\n",
    "    def _phi(self, z):\n",
    "        return np.where(z < 0, -1, 1)\n",
    "\n",
    "    def predict(self, X):\n",
    "        z = self._z(X)\n",
    "        y_cap = self._phi(z)\n",
    "        return y_cap.reshape(1, -1)[0]\n",
    "    \n",
    "    def score(self, X, y):\n",
    "        return accuracy_score(y, self.predict(X))"
   ]
  },
  {
   "cell_type": "markdown",
   "metadata": {},
   "source": [
    "### Import"
   ]
  },
  {
   "cell_type": "code",
   "execution_count": 3,
   "metadata": {},
   "outputs": [],
   "source": [
    "X = pd.read_csv('datasets/iris.data.csv')\n",
    "X = X[X['class'].isin(['Iris-setosa', 'Iris-versicolor'])]\n",
    "X['class'] = np.where(X['class'] == 'Iris-setosa', -1, 1)"
   ]
  },
  {
   "cell_type": "code",
   "execution_count": 4,
   "metadata": {},
   "outputs": [],
   "source": [
    "x_fields = ['sepal length', 'petal width']"
   ]
  },
  {
   "cell_type": "markdown",
   "metadata": {},
   "source": [
    "### Slicing"
   ]
  },
  {
   "cell_type": "code",
   "execution_count": 5,
   "metadata": {},
   "outputs": [],
   "source": [
    "X_train, X_test, y_train, y_test = train_test_split(X[x_fields], np.array(X['class']), test_size=0.2)"
   ]
  },
  {
   "cell_type": "markdown",
   "metadata": {},
   "source": [
    "### Fitting"
   ]
  },
  {
   "cell_type": "code",
   "execution_count": 6,
   "metadata": {},
   "outputs": [],
   "source": [
    "model = _Perceptron().fit(X_train, y_train)"
   ]
  },
  {
   "cell_type": "markdown",
   "metadata": {},
   "source": [
    "### Performance"
   ]
  },
  {
   "cell_type": "code",
   "execution_count": 7,
   "metadata": {
    "scrolled": false
   },
   "outputs": [
    {
     "name": "stdout",
     "output_type": "stream",
     "text": [
      "total iterations 2\n",
      "train set accuracy 1.0\n",
      "test set accuracy 1.0\n"
     ]
    }
   ],
   "source": [
    "print('total iterations', model.iter)\n",
    "print('train set accuracy', model.score(X_train, y_train))\n",
    "print('test set accuracy', model.score(X_test, y_test))"
   ]
  },
  {
   "cell_type": "markdown",
   "metadata": {},
   "source": [
    "### Scatterplot"
   ]
  },
  {
   "cell_type": "code",
   "execution_count": 8,
   "metadata": {
    "scrolled": true
   },
   "outputs": [],
   "source": [
    "x=np.array(X_test).T[0]\n",
    "y=np.array(X_test).T[1]"
   ]
  },
  {
   "cell_type": "code",
   "execution_count": 9,
   "metadata": {},
   "outputs": [],
   "source": [
    "hue=np.where(model.predict(X_test) == -1, 'Iris-setosa', 'Iris-versicolor')"
   ]
  },
  {
   "cell_type": "code",
   "execution_count": 10,
   "metadata": {},
   "outputs": [
    {
     "data": {
      "text/plain": [
       "<matplotlib.axes._subplots.AxesSubplot at 0x12921e8d0>"
      ]
     },
     "execution_count": 10,
     "metadata": {},
     "output_type": "execute_result"
    },
    {
     "data": {
      "image/png": "[encoded data removed]",
      "text/plain": [
       "<Figure size 432x288 with 1 Axes>"
      ]
     },
     "metadata": {
      "needs_background": "light"
     },
     "output_type": "display_data"
    }
   ],
   "source": [
    "sns.scatterplot(x=x, y=y, hue=hue)"
   ]
  },
  {
   "cell_type": "code",
   "execution_count": null,
   "metadata": {},
   "outputs": [],
   "source": []
  }
 ],
 "metadata": {
  "kernelspec": {
   "display_name": "Python 3",
   "language": "python",
   "name": "python3"
  },
  "language_info": {
   "codemirror_mode": {
    "name": "ipython",
    "version": 3
   },
   "file_extension": ".py",
   "mimetype": "text/x-python",
   "name": "python",
   "nbconvert_exporter": "python",
   "pygments_lexer": "ipython3",
   "version": "3.7.2"
  }
 },
 "nbformat": 4,
 "nbformat_minor": 2
}
